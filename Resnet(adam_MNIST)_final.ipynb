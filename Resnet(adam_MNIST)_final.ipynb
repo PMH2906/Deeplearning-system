{
  "nbformat": 4,
  "nbformat_minor": 0,
  "metadata": {
    "colab": {
      "name": "Resnet(adam/MNIST)_final.ipynb",
      "provenance": [],
      "collapsed_sections": [],
      "authorship_tag": "ABX9TyMZa75nUwBDrQMrnsHzxZuO",
      "include_colab_link": true
    },
    "kernelspec": {
      "name": "python3",
      "display_name": "Python 3"
    },
    "language_info": {
      "name": "python"
    },
    "accelerator": "GPU"
  },
  "cells": [
    {
      "cell_type": "markdown",
      "metadata": {
        "id": "view-in-github",
        "colab_type": "text"
      },
      "source": [
        "<a href=\"https://colab.research.google.com/github/PMH2906/Deeplearning-system/blob/main/Resnet(adam_MNIST)_final.ipynb\" target=\"_parent\"><img src=\"https://colab.research.google.com/assets/colab-badge.svg\" alt=\"Open In Colab\"/></a>"
      ]
    },
    {
      "cell_type": "code",
      "metadata": {
        "id": "R6nwhTlVSRAk"
      },
      "source": [
        "%matplotlib inline\n",
        "import torch\n",
        "import torch.nn as nn\n",
        "from matplotlib import pyplot as plt\n",
        "import numpy as np\n",
        "import torchvision\n",
        "import torchvision.datasets as datasets\n",
        "import torchvision.models as models\n",
        "from torchvision import transforms\n",
        "import torch.optim as optim\n",
        "import time\n",
        "import tqdm as tqdm\n",
        "from torch.autograd import Variable"
      ],
      "execution_count": 1,
      "outputs": []
    },
    {
      "cell_type": "code",
      "metadata": {
        "colab": {
          "base_uri": "https://localhost:8080/"
        },
        "id": "fPe9UFzbSUnb",
        "outputId": "db2cccf9-27e0-438d-995a-a27c3593c00c"
      },
      "source": [
        "transform = transforms.Compose([transforms.ToTensor(),\n",
        "                                # expand chennel from 1 to 3 to fit \n",
        "                                # ResNet pretrained model\n",
        "                                transforms.Lambda(lambda x: x.repeat(3, 1, 1)),\n",
        "                                ]) \n",
        "batch_size = 256\n",
        "\n",
        "# download dataset\n",
        "mnist_train = datasets.MNIST(root='./data', train=True, download=True, transform=transform)\n",
        "mnist_test = datasets.MNIST(root='./data', train=False, download=True, transform=transform)\n",
        "print(len(mnist_train), len(mnist_test))\n",
        "\n",
        "# Load dataset\n",
        "train_loader = torch.utils.data.DataLoader(mnist_train, batch_size=batch_size,\n",
        "    shuffle=True, num_workers=0)\n",
        "test_loader = torch.utils.data.DataLoader(mnist_test, batch_size=batch_size,\n",
        "    shuffle=True, num_workers=0)"
      ],
      "execution_count": 3,
      "outputs": [
        {
          "output_type": "stream",
          "text": [
            "60000 10000\n"
          ],
          "name": "stdout"
        }
      ]
    },
    {
      "cell_type": "code",
      "metadata": {
        "id": "REriqm7pSYtE"
      },
      "source": [
        "# print(models.resnet18())\n",
        "class ResNetFeatrueExtractor18(nn.Module):\n",
        "    def __init__(self, pretrained = True):\n",
        "        super(ResNetFeatrueExtractor18, self).__init__()\n",
        "        model_resnet18 = models.resnet18(pretrained=pretrained)\n",
        "        self.conv1 = model_resnet18.conv1\n",
        "        self.bn1 = model_resnet18.bn1\n",
        "        self.relu = model_resnet18.relu\n",
        "        self.maxpool = model_resnet18.maxpool\n",
        "        self.layer1 = model_resnet18.layer1\n",
        "        self.layer2 = model_resnet18.layer2\n",
        "        self.layer3 = model_resnet18.layer3\n",
        "        self.layer4 = model_resnet18.layer4\n",
        "        self.avgpool = model_resnet18.avgpool\n",
        "\n",
        "    def forward(self, x):\n",
        "        x = self.relu(self.bn1(self.conv1(x)))\n",
        "        x = self.maxpool(x)\n",
        "        x = self.layer1(x)\n",
        "        x = self.layer2(x)\n",
        "        x = self.layer3(x)\n",
        "        x = self.layer4(x)\n",
        "        x = self.avgpool(x)\n",
        "        x = x.view(x.size(0), -1)\n",
        "\n",
        "        return x\n",
        "\n",
        "class ResClassifier(nn.Module):\n",
        "    def __init__(self, dropout_p=0.5): #in_features=512\n",
        "        super(ResClassifier, self).__init__()        \n",
        "        self.fc = nn.Linear(512, 10)\n",
        "    def forward(self, x):       \n",
        "        out = self.fc(x)\n",
        "        return out\n",
        "\n",
        "\n",
        "def weights_init(m):\n",
        "    classname = m.__class__.__name__\n",
        "    if classname.find('Conv') != -1:\n",
        "        torch.nn.init.xavier_uniform_(m.weight)\n",
        "    elif classname.find('Linear') != -1:\n",
        "        torch.nn.init.xavier_uniform_(m.weight)\n",
        "    elif classname.find('BatchNorm') != -1:\n",
        "        m.weight.data.normal_(1.0, 0.01)\n",
        "\n",
        "# calculate test accuracy\n",
        "def test_accuracy(data_iter, netG, netF):\n",
        "    \"\"\"Evaluate testset accuracy of a model.\"\"\"\n",
        "    acc_sum,n = 0,0\n",
        "    for (imgs, labels) in data_iter:\n",
        "        # send data to the GPU if cuda is availabel\n",
        "        if torch.cuda.is_available():\n",
        "            imgs = imgs.cuda()\n",
        "            labels = labels.cuda()\n",
        "        netG.eval()\n",
        "        netF.eval()\n",
        "        with torch.no_grad():\n",
        "            labels = labels.long()\n",
        "            acc_sum += torch.sum((torch.argmax(netF(netG(imgs)), dim=1) == labels)).float()\n",
        "            n += labels.shape[0]\n",
        "    return acc_sum.item()/n"
      ],
      "execution_count": 4,
      "outputs": []
    },
    {
      "cell_type": "code",
      "metadata": {
        "colab": {
          "base_uri": "https://localhost:8080/"
        },
        "id": "jPZfBtQcSpUo",
        "outputId": "af9137a4-6f40-4116-c2a3-4202f134511a"
      },
      "source": [
        "#그래프\n",
        "Loss=[]\n",
        "Acc=[]\n",
        "Val_Loss=[]\n",
        "Val_Acc=[]\n",
        "\n",
        "netG = ResNetFeatrueExtractor18(pretrained = False)\n",
        "netF = ResClassifier()\n",
        "\n",
        "if torch.cuda.is_available():\n",
        "    netG = netG.cuda()\n",
        "    netF = netF.cuda()\n",
        "\n",
        "# setting up optimizer for both feature generator G and classifier F.\n",
        "opt_g = optim.SGD(netG.parameters(), lr=0.01, weight_decay=0.0005)\n",
        "opt_f = optim.Adam(netF.parameters(), lr=0.01, betas=(0.9, 0.999), eps=1e-08, weight_decay=0, amsgrad=False)\n",
        "\n",
        "# loss function\n",
        "criterion = nn.CrossEntropyLoss()\n",
        "\n",
        "for epoch in range(0, 10):\n",
        "    n, start = 0, time.time()\n",
        "    train_l_sum = torch.tensor([0.0], dtype=torch.float32)\n",
        "    train_acc_sum = torch.tensor([0.0], dtype=torch.float32)\n",
        "    for i, (imgs, labels) in tqdm.tqdm(enumerate(iter(train_loader))):\n",
        "        netG.train()\n",
        "        netF.train()\n",
        "        imgs = Variable(imgs)\n",
        "        labels = Variable(labels)\n",
        "        # train on GPU if possible  \n",
        "        if torch.cuda.is_available():\n",
        "            imgs = imgs.cuda()\n",
        "            labels = labels.cuda()\n",
        "            train_l_sum = train_l_sum.cuda()\n",
        "            train_acc_sum = train_acc_sum.cuda()\n",
        "\n",
        "        opt_g.zero_grad()\n",
        "        opt_f.zero_grad()\n",
        "\n",
        "        # extracted feature\n",
        "        bottleneck = netG(imgs)     \n",
        "        \n",
        "        # predicted labels\n",
        "        label_hat = netF(bottleneck)\n",
        "\n",
        "        # loss function\n",
        "        loss= criterion(label_hat, labels)\n",
        "        loss.backward()\n",
        "        opt_g.step()\n",
        "        opt_f.step()\n",
        "        \n",
        "        # calcualte training error\n",
        "        netG.eval()\n",
        "        netF.eval()\n",
        "        labels = labels.long()\n",
        "        train_l_sum += loss.float()\n",
        "        train_acc_sum += (torch.sum((torch.argmax(label_hat, dim=1) == labels))).float()\n",
        "        n += labels.shape[0]\n",
        "    test_acc = test_accuracy(iter(test_loader), netG, netF) \n",
        "    print('epoch %d, loss %.4f, train acc %.3f, test acc %.3f, time %.1f sec'\\\n",
        "        % (epoch + 1, train_l_sum/n, train_acc_sum/n, test_acc, time.time() - start))\n",
        "    \n",
        "    Loss.append(train_l_sum/n)\n",
        "    Acc.append(train_acc_sum/n)\n",
        "    Val_Acc.append(test_acc)"
      ],
      "execution_count": 5,
      "outputs": [
        {
          "output_type": "stream",
          "text": [
            "235it [00:18, 13.02it/s]\n",
            "3it [00:00, 16.77it/s]"
          ],
          "name": "stderr"
        },
        {
          "output_type": "stream",
          "text": [
            "epoch 1, loss 0.0010, train acc 0.926, test acc 0.970, time 18.9 sec\n"
          ],
          "name": "stdout"
        },
        {
          "output_type": "stream",
          "text": [
            "235it [00:18, 13.01it/s]\n",
            "2it [00:00, 19.59it/s]"
          ],
          "name": "stderr"
        },
        {
          "output_type": "stream",
          "text": [
            "epoch 2, loss 0.0002, train acc 0.983, test acc 0.978, time 18.9 sec\n"
          ],
          "name": "stdout"
        },
        {
          "output_type": "stream",
          "text": [
            "235it [00:18, 12.86it/s]\n",
            "2it [00:00, 18.42it/s]"
          ],
          "name": "stderr"
        },
        {
          "output_type": "stream",
          "text": [
            "epoch 3, loss 0.0001, train acc 0.990, test acc 0.981, time 19.1 sec\n"
          ],
          "name": "stdout"
        },
        {
          "output_type": "stream",
          "text": [
            "235it [00:18, 12.71it/s]\n",
            "2it [00:00, 19.68it/s]"
          ],
          "name": "stderr"
        },
        {
          "output_type": "stream",
          "text": [
            "epoch 4, loss 0.0001, train acc 0.995, test acc 0.981, time 19.4 sec\n"
          ],
          "name": "stdout"
        },
        {
          "output_type": "stream",
          "text": [
            "235it [00:18, 12.58it/s]\n",
            "3it [00:00, 16.35it/s]"
          ],
          "name": "stderr"
        },
        {
          "output_type": "stream",
          "text": [
            "epoch 5, loss 0.0000, train acc 0.998, test acc 0.983, time 19.5 sec\n"
          ],
          "name": "stdout"
        },
        {
          "output_type": "stream",
          "text": [
            "235it [00:18, 12.44it/s]\n",
            "2it [00:00, 19.89it/s]"
          ],
          "name": "stderr"
        },
        {
          "output_type": "stream",
          "text": [
            "epoch 6, loss 0.0000, train acc 0.998, test acc 0.983, time 19.7 sec\n"
          ],
          "name": "stdout"
        },
        {
          "output_type": "stream",
          "text": [
            "235it [00:19, 12.36it/s]\n",
            "3it [00:00, 15.97it/s]"
          ],
          "name": "stderr"
        },
        {
          "output_type": "stream",
          "text": [
            "epoch 7, loss 0.0000, train acc 0.998, test acc 0.984, time 19.9 sec\n"
          ],
          "name": "stdout"
        },
        {
          "output_type": "stream",
          "text": [
            "235it [00:19, 12.35it/s]\n",
            "3it [00:00, 16.53it/s]"
          ],
          "name": "stderr"
        },
        {
          "output_type": "stream",
          "text": [
            "epoch 8, loss 0.0000, train acc 0.998, test acc 0.982, time 19.9 sec\n"
          ],
          "name": "stdout"
        },
        {
          "output_type": "stream",
          "text": [
            "235it [00:19, 12.36it/s]\n",
            "3it [00:00, 18.55it/s]"
          ],
          "name": "stderr"
        },
        {
          "output_type": "stream",
          "text": [
            "epoch 9, loss 0.0001, train acc 0.996, test acc 0.980, time 19.9 sec\n"
          ],
          "name": "stdout"
        },
        {
          "output_type": "stream",
          "text": [
            "235it [00:19, 12.34it/s]\n"
          ],
          "name": "stderr"
        },
        {
          "output_type": "stream",
          "text": [
            "epoch 10, loss 0.0001, train acc 0.992, test acc 0.983, time 19.9 sec\n"
          ],
          "name": "stdout"
        }
      ]
    },
    {
      "cell_type": "code",
      "metadata": {
        "id": "fKr9WVZBZtol"
      },
      "source": [
        "import matplotlib.pyplot as plt"
      ],
      "execution_count": 6,
      "outputs": []
    },
    {
      "cell_type": "code",
      "metadata": {
        "colab": {
          "base_uri": "https://localhost:8080/",
          "height": 295
        },
        "id": "PaFmE3LHWixm",
        "outputId": "38dc88c8-ae39-4e2a-9020-41c307765d1c"
      },
      "source": [
        "plt.plot(range(10),Loss)\n",
        "plt.ylabel('Loss')\n",
        "plt.xlabel('Epoch')\n",
        "plt.title(\"Loss [opimizer : adam / data set : MNIST]\")\n",
        "plt.legend([\"Training Loss\", \"Validation Loss\"])\n",
        "plt.show()"
      ],
      "execution_count": 7,
      "outputs": [
        {
          "output_type": "display_data",
          "data": {
            "image/png": "[encoded data removed]",
            "text/plain": [
              "<Figure size 432x288 with 1 Axes>"
            ]
          },
          "metadata": {
            "tags": [],
            "needs_background": "light"
          }
        }
      ]
    },
    {
      "cell_type": "code",
      "metadata": {
        "colab": {
          "base_uri": "https://localhost:8080/",
          "height": 295
        },
        "id": "ap4FfRKQWj5A",
        "outputId": "78964021-911f-40ea-d00f-ed2e4d8b0b70"
      },
      "source": [
        "plt.plot(range(10),Acc)\n",
        "plt.plot(range(10),Val_Acc)\n",
        "plt.ylabel('Accuracy')\n",
        "plt.xlabel('Epoch')\n",
        "plt.title(\"Accuracy [opimizer : adam / data set : MNIST]\")\n",
        "plt.legend([\"Training Accuracy\", \"Validation Accuracy\"])\n",
        "plt.show()"
      ],
      "execution_count": 8,
      "outputs": [
        {
          "output_type": "display_data",
          "data": {
            "image/png": "[encoded data removed]",
            "text/plain": [
              "<Figure size 432x288 with 1 Axes>"
            ]
          },
          "metadata": {
            "tags": [],
            "needs_background": "light"
          }
        }
      ]
    }
  ]
}